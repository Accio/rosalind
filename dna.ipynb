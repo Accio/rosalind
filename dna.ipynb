{
 "cells": [
  {
   "cell_type": "code",
   "execution_count": 26,
   "metadata": {},
   "outputs": [
    {
     "data": {
      "text/plain": [
       "'20 12 17 21'"
      ]
     },
     "execution_count": 26,
     "metadata": {},
     "output_type": "execute_result"
    }
   ],
   "source": [
    "def countDNA(string):\n",
    "    res={'A':0, 'C':0, 'G':0, 'T':0}\n",
    "    for c in string:\n",
    "        res[c] += 1\n",
    "    return(res)\n",
    "\n",
    "def countDNAoutput(string):\n",
    "    dictRes = countDNA(string)\n",
    "    res = ' '.join([str(dictRes['A']),\n",
    "                  str(dictRes['C']),\n",
    "                  str(dictRes['G']),\n",
    "                  str(dictRes['T'])])\n",
    "    return(res)\n",
    "\n",
    "countDNA('ACTG')\n",
    "countDNAoutput('AGCTTTTCATTCTGACTGCAACGGGCAATATGTCTCTGTGTGGATTAAAAAAAGAGTGTCTGATAGCAGC')"
   ]
  },
  {
   "cell_type": "code",
   "execution_count": 27,
   "metadata": {},
   "outputs": [
    {
     "data": {
      "text/plain": [
       "'206 207 242 225'"
      ]
     },
     "execution_count": 27,
     "metadata": {},
     "output_type": "execute_result"
    }
   ],
   "source": [
    "with open('rosalind_dna.txt', 'r') as f:\n",
    "    dnastr = f.readline().rstrip('\\n')\n",
    "\n",
    "countDNAoutput(dnastr)"
   ]
  }
 ],
 "metadata": {
  "kernelspec": {
   "display_name": "Python 3",
   "language": "python",
   "name": "python3"
  },
  "language_info": {
   "codemirror_mode": {
    "name": "ipython",
    "version": 3
   },
   "file_extension": ".py",
   "mimetype": "text/x-python",
   "name": "python",
   "nbconvert_exporter": "python",
   "pygments_lexer": "ipython3",
   "version": "3.5.5"
  }
 },
 "nbformat": 4,
 "nbformat_minor": 2
}
