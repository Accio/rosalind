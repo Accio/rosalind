{
 "cells": [
  {
   "cell_type": "markdown",
   "metadata": {},
   "source": [
    "# Rosalind Introductory Exercises, Programming\n",
    "\n",
    "Below I follow the exercises of [Rosalind Python Village](http://rosalind.info/problems/list-view/?location=python-village).\n",
    "\n",
    "## Import this\n",
    "\n",
    "It's fun to watch the results of *import this*."
   ]
  },
  {
   "cell_type": "code",
   "execution_count": 1,
   "metadata": {
    "scrolled": true
   },
   "outputs": [
    {
     "name": "stdout",
     "output_type": "stream",
     "text": [
      "The Zen of Python, by Tim Peters\n",
      "\n",
      "Beautiful is better than ugly.\n",
      "Explicit is better than implicit.\n",
      "Simple is better than complex.\n",
      "Complex is better than complicated.\n",
      "Flat is better than nested.\n",
      "Sparse is better than dense.\n",
      "Readability counts.\n",
      "Special cases aren't special enough to break the rules.\n",
      "Although practicality beats purity.\n",
      "Errors should never pass silently.\n",
      "Unless explicitly silenced.\n",
      "In the face of ambiguity, refuse the temptation to guess.\n",
      "There should be one-- and preferably only one --obvious way to do it.\n",
      "Although that way may not be obvious at first unless you're Dutch.\n",
      "Now is better than never.\n",
      "Although never is often better than *right* now.\n",
      "If the implementation is hard to explain, it's a bad idea.\n",
      "If the implementation is easy to explain, it may be a good idea.\n",
      "Namespaces are one honking great idea -- let's do more of those!\n"
     ]
    }
   ],
   "source": [
    "import this"
   ]
  },
  {
   "cell_type": "markdown",
   "metadata": {},
   "source": [
    "## Variables and Some Arithmetic"
   ]
  },
  {
   "cell_type": "code",
   "execution_count": 2,
   "metadata": {},
   "outputs": [],
   "source": [
    "def squareHypotensue(a,b):\n",
    "    return(a*a+b*b)"
   ]
  },
  {
   "cell_type": "code",
   "execution_count": 3,
   "metadata": {},
   "outputs": [
    {
     "data": {
      "text/plain": [
       "34"
      ]
     },
     "execution_count": 3,
     "metadata": {},
     "output_type": "execute_result"
    }
   ],
   "source": [
    "squareHypotensue(3,5)"
   ]
  },
  {
   "cell_type": "code",
   "execution_count": 4,
   "metadata": {},
   "outputs": [
    {
     "name": "stdout",
     "output_type": "stream",
     "text": [
      "963 925\n",
      "\n"
     ]
    }
   ],
   "source": [
    "with open('rosalind_ini2.txt', 'r') as f:\n",
    "    a = f.readline()\n",
    "print(a)"
   ]
  },
  {
   "cell_type": "code",
   "execution_count": 5,
   "metadata": {},
   "outputs": [
    {
     "data": {
      "text/plain": [
       "1782994"
      ]
     },
     "execution_count": 5,
     "metadata": {},
     "output_type": "execute_result"
    }
   ],
   "source": [
    "aValues = list(map(int, a.split()))\n",
    "squareHypotensue(aValues[0], aValues[1])"
   ]
  },
  {
   "cell_type": "markdown",
   "metadata": {},
   "source": [
    "## String as lists"
   ]
  },
  {
   "cell_type": "code",
   "execution_count": 6,
   "metadata": {},
   "outputs": [
    {
     "data": {
      "text/plain": [
       "'Humpty Dumpty'"
      ]
     },
     "execution_count": 6,
     "metadata": {},
     "output_type": "execute_result"
    }
   ],
   "source": [
    "s = \"HumptyDumptysatonawallHumptyDumptyhadagreatfallAlltheKingshorsesandalltheKingsmenCouldntputHumptyDumptyinhisplaceagain.\"\n",
    "i1 = 22\n",
    "i2 = 27\n",
    "i3 = 97\n",
    "i4 = 102\n",
    "\n",
    "s[i1:i2+1] + ' ' + s[i3:i4+1]"
   ]
  },
  {
   "cell_type": "code",
   "execution_count": 7,
   "metadata": {},
   "outputs": [
    {
     "data": {
      "text/plain": [
       "'Humpty Dumpty'"
      ]
     },
     "execution_count": 7,
     "metadata": {},
     "output_type": "execute_result"
    }
   ],
   "source": [
    "def stringAsList(str, i1, i2, i3, i4):\n",
    "    return(str[i1:i2+1] + ' ' + str[i3:i4+1])\n",
    "\n",
    "stringAsList(s, i1, i2, i3, i4)"
   ]
  },
  {
   "cell_type": "code",
   "execution_count": 8,
   "metadata": {},
   "outputs": [],
   "source": [
    "with open('rosalind_ini3.txt', 'r') as f:\n",
    "    inputstr = f.readline()\n",
    "    ind = list(map(int, f.readline().split()))"
   ]
  },
  {
   "cell_type": "code",
   "execution_count": 9,
   "metadata": {},
   "outputs": [
    {
     "data": {
      "text/plain": [
       "'uAANcwPO42PJP2MPSurytw9EWQiVSq20iLm7wBayCUiCrLLB0nuejKcBqpaPhylloscopusuKgTfz56x7qXUjByu1Nb2eKkTeQ5DH6C00cfs6YsrgTPoOXYZv95BFrM0ZHnxiIkjrEWQ34suThypomelusMJB9aKtdvlnMn8TxV30NBv0aJVjcMl.\\n'"
      ]
     },
     "execution_count": 9,
     "metadata": {},
     "output_type": "execute_result"
    }
   ],
   "source": [
    "inputstr"
   ]
  },
  {
   "cell_type": "code",
   "execution_count": 10,
   "metadata": {},
   "outputs": [
    {
     "data": {
      "text/plain": [
       "[59, 70, 145, 153]"
      ]
     },
     "execution_count": 10,
     "metadata": {},
     "output_type": "execute_result"
    }
   ],
   "source": [
    "ind"
   ]
  },
  {
   "cell_type": "code",
   "execution_count": 11,
   "metadata": {},
   "outputs": [
    {
     "data": {
      "text/plain": [
       "'Phylloscopus hypomelus'"
      ]
     },
     "execution_count": 11,
     "metadata": {},
     "output_type": "execute_result"
    }
   ],
   "source": [
    "stringAsList(inputstr, ind[0], ind[1], ind[2], ind[3])"
   ]
  },
  {
   "cell_type": "markdown",
   "metadata": {},
   "source": [
    "## Condition and loops"
   ]
  },
  {
   "cell_type": "code",
   "execution_count": 16,
   "metadata": {},
   "outputs": [
    {
     "data": {
      "text/plain": [
       "7500"
      ]
     },
     "execution_count": 16,
     "metadata": {},
     "output_type": "execute_result"
    }
   ],
   "source": [
    "def sumOddIntegers(a,b):\n",
    "    sum = 0\n",
    "    for i in range(a, b+1):\n",
    "            if (i % 2 == 1):\n",
    "                sum += i\n",
    "    return(sum)\n",
    "\n",
    "sumOddIntegers(100, 200)"
   ]
  },
  {
   "cell_type": "code",
   "execution_count": 18,
   "metadata": {},
   "outputs": [
    {
     "data": {
      "text/plain": [
       "[4735, 9652]"
      ]
     },
     "execution_count": 18,
     "metadata": {},
     "output_type": "execute_result"
    }
   ],
   "source": [
    "with open('rosalind_ini4.txt', 'r') as f:\n",
    "    ind = list(map(int, f.readline().split()))\n",
    "    \n",
    "ind"
   ]
  },
  {
   "cell_type": "code",
   "execution_count": 19,
   "metadata": {},
   "outputs": [
    {
     "data": {
      "text/plain": [
       "17687587"
      ]
     },
     "execution_count": 19,
     "metadata": {},
     "output_type": "execute_result"
    }
   ],
   "source": [
    "sumOddIntegers(ind[0], ind[1])"
   ]
  },
  {
   "cell_type": "markdown",
   "metadata": {},
   "source": [
    "## Working with files"
   ]
  },
  {
   "cell_type": "code",
   "execution_count": 23,
   "metadata": {},
   "outputs": [
    {
     "name": "stdout",
     "output_type": "stream",
     "text": [
      "Yes, brave Sir Robin turned about\n",
      "And gallantly he chickened out\n",
      "Bravely talking to his feet\n",
      "He beat a very brave retreat\n",
      "\n"
     ]
    }
   ],
   "source": [
    "def evenLines(file):\n",
    "    with open(file, 'r') as f:\n",
    "        lines = f.readlines()\n",
    "    res = ''\n",
    "    for i in range(1, len(lines), 2):\n",
    "        res += lines[i]\n",
    "    return(res)\n",
    "\n",
    "print(evenLines('sampleLines.txt'))"
   ]
  },
  {
   "cell_type": "code",
   "execution_count": 24,
   "metadata": {},
   "outputs": [
    {
     "name": "stdout",
     "output_type": "stream",
     "text": [
      "Some things in life are bad, they can really make you mad\n",
      "Other things just make you swear and curse\n",
      "When you're chewing on life's gristle, don't grumble give a whistle\n",
      "This will help things turn out for the best\n",
      "Always look on the bright side of life\n",
      "Always look on the right side of life\n",
      "If life seems jolly rotten, there's something you've forgotten\n",
      "And that's to laugh and smile and dance and sing\n",
      "When you're feeling in the dumps, don't be silly, chumps\n",
      "Just purse your lips and whistle, that's the thing\n",
      "So, always look on the bright side of death\n",
      "Just before you draw your terminal breath\n",
      "Life's a counterfeit and when you look at it\n",
      "Life's a laugh and death's the joke, it's true\n",
      "You see, it's all a show, keep them laughing as you go\n",
      "Just remember the last laugh is on you\n",
      "Always look on the bright side of life\n",
      "And always look on the right side of life\n",
      "Always look on the bright side of life\n",
      "And always look on the right side of life\n",
      "\n"
     ]
    }
   ],
   "source": [
    "print(evenLines('rosalind_ini5.txt'))"
   ]
  },
  {
   "cell_type": "markdown",
   "metadata": {},
   "source": [
    "## Dictionaries"
   ]
  },
  {
   "cell_type": "code",
   "execution_count": 44,
   "metadata": {},
   "outputs": [
    {
     "name": "stdout",
     "output_type": "stream",
     "text": [
      "We 1\n",
      "tried 3\n",
      "list 1\n",
      "and 1\n",
      "we 2\n",
      "dicts 1\n",
      "also 1\n",
      "Zen 1\n"
     ]
    }
   ],
   "source": [
    "def wordOccurrence(str):\n",
    "    words = str.split()\n",
    "    res = {}\n",
    "    for word in words:\n",
    "        if word not in res:\n",
    "            res[word] = 0\n",
    "        res[word] = res[word] +1\n",
    "    return(res)\n",
    "\n",
    "def printWordOccurrence(dict):\n",
    "    for key in dict:\n",
    "        print(key + ' ' + str(dict[key]))\n",
    "\n",
    "def rosalind6(file):\n",
    "    with open(file, 'r') as f:\n",
    "        rstr = f.readline()\n",
    "    printWordOccurrence(wordOccurrence(rstr))\n",
    "                        \n",
    "printWordOccurrence(wordOccurrence('We tried list and we tried dicts also we tried Zen'))"
   ]
  },
  {
   "cell_type": "code",
   "execution_count": 45,
   "metadata": {},
   "outputs": [
    {
     "name": "stdout",
     "output_type": "stream",
     "text": [
      "When 1\n",
      "I 2\n",
      "find 1\n",
      "myself 1\n",
      "in 4\n",
      "times 1\n",
      "of 11\n",
      "trouble 1\n",
      "Mother 2\n",
      "Mary 2\n",
      "comes 2\n",
      "to 3\n",
      "me 4\n",
      "Speaking 3\n",
      "words 7\n",
      "wisdom 7\n",
      "let 30\n",
      "it 36\n",
      "be 41\n",
      "And 3\n",
      "my 1\n",
      "hour 1\n",
      "darkness 1\n",
      "she 1\n",
      "is 4\n",
      "standing 1\n",
      "right 1\n",
      "front 1\n",
      "Let 6\n",
      "Whisper 4\n",
      "when 2\n",
      "the 4\n",
      "broken 1\n",
      "hearted 1\n",
      "people 1\n",
      "living 1\n",
      "world 1\n",
      "agree 1\n",
      "There 4\n",
      "will 5\n",
      "an 4\n",
      "answer 4\n",
      "For 1\n",
      "though 1\n",
      "they 2\n",
      "may 1\n",
      "parted 1\n",
      "there 2\n",
      "still 2\n",
      "a 2\n",
      "chance 1\n",
      "that 2\n",
      "see 1\n",
      "night 1\n",
      "cloudy 1\n",
      "light 1\n",
      "shines 1\n",
      "on 1\n",
      "Shine 1\n",
      "until 1\n",
      "tomorrow 1\n",
      "wake 1\n",
      "up 1\n",
      "sound 1\n",
      "music 1\n",
      "yeah 2\n"
     ]
    }
   ],
   "source": [
    "rosalind6('rosalind_ini6.txt')"
   ]
  }
 ],
 "metadata": {
  "kernelspec": {
   "display_name": "Python 3",
   "language": "python",
   "name": "python3"
  },
  "language_info": {
   "codemirror_mode": {
    "name": "ipython",
    "version": 3
   },
   "file_extension": ".py",
   "mimetype": "text/x-python",
   "name": "python",
   "nbconvert_exporter": "python",
   "pygments_lexer": "ipython3",
   "version": "3.7.1"
  }
 },
 "nbformat": 4,
 "nbformat_minor": 2
}
