{
 "cells": [
  {
   "cell_type": "markdown",
   "metadata": {},
   "source": [
    "# Introduction to the bioinformatics armory\n",
    "\n",
    "\n"
   ]
  },
  {
   "cell_type": "markdown",
   "metadata": {},
   "source": [
    "## Technical setup"
   ]
  },
  {
   "cell_type": "code",
   "execution_count": 1,
   "metadata": {},
   "outputs": [],
   "source": [
    "## When I sit behind a firewall, the ExPASy module reports the error SSL: Certificate_VERIFY_FAILED\n",
    "## the code part below removes the error of SSL: Certificate_VERIFY_FAILED\n",
    "## source: http://blog.pengyifan.com/how-to-fix-python-ssl-certificate_verify_failed/\n",
    "import os, ssl\n",
    "if (not os.environ.get('PYTHONHTTPSVERIFY', '') and\n",
    "    getattr(ssl, '_create_unverified_context', None)): \n",
    "    ssl._create_default_https_context = ssl._create_unverified_context"
   ]
  },
  {
   "cell_type": "markdown",
   "metadata": {},
   "source": [
    "## Question ini\n",
    "\n",
    "Count nucleotide acids in a DNA sequence with *Bio.Seq* from Biopython"
   ]
  },
  {
   "cell_type": "code",
   "execution_count": 2,
   "metadata": {
    "scrolled": true
   },
   "outputs": [
    {
     "name": "stdout",
     "output_type": "stream",
     "text": [
      "20 12 17 21\n"
     ]
    }
   ],
   "source": [
    "from Bio.Seq import Seq\n",
    "\n",
    "def countNt(str):\n",
    "    mySeq = Seq(str)\n",
    "    res = [mySeq.count('A'), mySeq.count('C'), mySeq.count('G'), mySeq.count('T')]\n",
    "    return(res)\n",
    "\n",
    "def printCountNt(s):\n",
    "    res = countNt(s)\n",
    "    print(' '.join(list(map(str, res))))\n",
    "    \n",
    "myStr = \"AGCTTTTCATTCTGACTGCAACGGGCAATATGTCTCTGTGTGGATTAAAAAAAGAGTGTCTGATAGCAGC\"\n",
    "\n",
    "countNt(myStr)\n",
    "printCountNt(myStr)"
   ]
  },
  {
   "cell_type": "code",
   "execution_count": 3,
   "metadata": {},
   "outputs": [
    {
     "name": "stdout",
     "output_type": "stream",
     "text": [
      "225 231 220 239\n"
     ]
    }
   ],
   "source": [
    "with open('rosalind_ini.txt', 'r') as f:\n",
    "    line = f.readline()\n",
    "    \n",
    "printCountNt(line)"
   ]
  },
  {
   "cell_type": "markdown",
   "metadata": {},
   "source": [
    "## Question dbpr: protein database"
   ]
  },
  {
   "cell_type": "code",
   "execution_count": 4,
   "metadata": {},
   "outputs": [
    {
     "data": {
      "text/plain": [
       "('EMBL', 'CP001184', 'ACI60310.1', '-', 'Genomic_DNA')"
      ]
     },
     "execution_count": 4,
     "metadata": {},
     "output_type": "execute_result"
    }
   ],
   "source": [
    "from Bio import ExPASy\n",
    "from Bio import SwissProt\n",
    "\n",
    "handle = ExPASy.get_sprot_raw('B5ZC00') ## find a target protein by its ID\n",
    "record = SwissProt.read(handle)\n",
    "\n",
    "dir(record) ## check the list of attributes\n",
    "record.cross_references[0]"
   ]
  },
  {
   "cell_type": "code",
   "execution_count": 5,
   "metadata": {},
   "outputs": [
    {
     "data": {
      "text/plain": [
       "['__class__',\n",
       " '__delattr__',\n",
       " '__dict__',\n",
       " '__dir__',\n",
       " '__doc__',\n",
       " '__eq__',\n",
       " '__format__',\n",
       " '__ge__',\n",
       " '__getattribute__',\n",
       " '__gt__',\n",
       " '__hash__',\n",
       " '__init__',\n",
       " '__le__',\n",
       " '__lt__',\n",
       " '__module__',\n",
       " '__ne__',\n",
       " '__new__',\n",
       " '__reduce__',\n",
       " '__reduce_ex__',\n",
       " '__repr__',\n",
       " '__setattr__',\n",
       " '__sizeof__',\n",
       " '__str__',\n",
       " '__subclasshook__',\n",
       " '__weakref__',\n",
       " 'accessions',\n",
       " 'annotation_update',\n",
       " 'comments',\n",
       " 'created',\n",
       " 'cross_references',\n",
       " 'data_class',\n",
       " 'description',\n",
       " 'entry_name',\n",
       " 'features',\n",
       " 'gene_name',\n",
       " 'host_organism',\n",
       " 'host_taxonomy_id',\n",
       " 'keywords',\n",
       " 'molecule_type',\n",
       " 'organelle',\n",
       " 'organism',\n",
       " 'organism_classification',\n",
       " 'protein_existence',\n",
       " 'references',\n",
       " 'seqinfo',\n",
       " 'sequence',\n",
       " 'sequence_length',\n",
       " 'sequence_update',\n",
       " 'taxonomy_id']"
      ]
     },
     "execution_count": 5,
     "metadata": {},
     "output_type": "execute_result"
    }
   ],
   "source": [
    "dir(record)"
   ]
  },
  {
   "cell_type": "code",
   "execution_count": 27,
   "metadata": {},
   "outputs": [
    {
     "name": "stdout",
     "output_type": "stream",
     "text": [
      "DNA recombination\n",
      "DNA repair\n",
      "DNA replication\n"
     ]
    }
   ],
   "source": [
    "def getBP(proteinId):\n",
    "    handle = ExPASy.get_sprot_raw(proteinId)\n",
    "    res = SwissProt.read(handle)\n",
    "    gos = []\n",
    "    for cr in res.cross_references:\n",
    "        if cr[0]=='GO' and cr[2].startswith('P:'):\n",
    "            gos.append(cr[2][2:])\n",
    "    return(gos)\n",
    "\n",
    "q5slp9Res = getBP('Q5SLP9')\n",
    "print('\\n'.join(q5slp9Res))"
   ]
  },
  {
   "cell_type": "code",
   "execution_count": 42,
   "metadata": {},
   "outputs": [
    {
     "name": "stdout",
     "output_type": "stream",
     "text": [
      "regulation of blood pressure\n",
      "vasodilation\n"
     ]
    }
   ],
   "source": [
    "## rstrip('\\n') was used to remove the newline character at the end\n",
    "## or use splitlines()\n",
    "with open('rosalind_dbpr.txt', 'r') as f:\n",
    "    ##proid = f.readline().splitlines()[0]\n",
    "    proid = f.readline().rstrip('\\n')\n",
    "\n",
    "\n",
    "print('\\n'.join(getBP(proid)))"
   ]
  }
 ],
 "metadata": {
  "kernelspec": {
   "display_name": "Python 3",
   "language": "python",
   "name": "python3"
  },
  "language_info": {
   "codemirror_mode": {
    "name": "ipython",
    "version": 3
   },
   "file_extension": ".py",
   "mimetype": "text/x-python",
   "name": "python",
   "nbconvert_exporter": "python",
   "pygments_lexer": "ipython3",
   "version": "3.5.5"
  }
 },
 "nbformat": 4,
 "nbformat_minor": 2
}
