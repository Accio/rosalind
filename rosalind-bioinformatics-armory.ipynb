{
 "cells": [
  {
   "cell_type": "markdown",
   "metadata": {},
   "source": [
    "# Introduction to the bioinformatics armory\n",
    "\n",
    "\n"
   ]
  },
  {
   "cell_type": "markdown",
   "metadata": {},
   "source": [
    "## Technical setup"
   ]
  },
  {
   "cell_type": "code",
   "execution_count": null,
   "metadata": {},
   "outputs": [],
   "source": [
    "## When I sit behind a firewall, the ExPASy module reports the error SSL: Certificate_VERIFY_FAILED\n",
    "## the code part below removes the error of SSL: Certificate_VERIFY_FAILED\n",
    "## source: http://blog.pengyifan.com/how-to-fix-python-ssl-certificate_verify_failed/\n",
    "import os, ssl\n",
    "if (not os.environ.get('PYTHONHTTPSVERIFY', '') and\n",
    "    getattr(ssl, '_create_unverified_context', None)): \n",
    "    ssl._create_default_https_context = ssl._create_unverified_context"
   ]
  },
  {
   "cell_type": "markdown",
   "metadata": {},
   "source": [
    "## Question ini\n",
    "\n",
    "Count nucleotide acids in a DNA sequence with *Bio.Seq* from Biopython"
   ]
  },
  {
   "cell_type": "code",
   "execution_count": 11,
   "metadata": {
    "scrolled": true
   },
   "outputs": [
    {
     "name": "stdout",
     "output_type": "stream",
     "text": [
      "20 12 17 21\n"
     ]
    }
   ],
   "source": [
    "from Bio.Seq import Seq\n",
    "\n",
    "def countNt(str):\n",
    "    mySeq = Seq(str)\n",
    "    res = [mySeq.count('A'), mySeq.count('C'), mySeq.count('G'), mySeq.count('T')]\n",
    "    return(res)\n",
    "\n",
    "def printCountNt(s):\n",
    "    res = countNt(s)\n",
    "    print(' '.join(list(map(str, res))))\n",
    "    \n",
    "myStr = \"AGCTTTTCATTCTGACTGCAACGGGCAATATGTCTCTGTGTGGATTAAAAAAAGAGTGTCTGATAGCAGC\"\n",
    "\n",
    "countNt(myStr)\n",
    "printCountNt(myStr)"
   ]
  },
  {
   "cell_type": "code",
   "execution_count": 12,
   "metadata": {},
   "outputs": [
    {
     "name": "stdout",
     "output_type": "stream",
     "text": [
      "225 231 220 239\n"
     ]
    }
   ],
   "source": [
    "with open('rosalind_ini.txt', 'r') as f:\n",
    "    line = f.readline()\n",
    "    \n",
    "printCountNt(line)"
   ]
  },
  {
   "cell_type": "markdown",
   "metadata": {},
   "source": [
    "## Question dbpr: protein database"
   ]
  },
  {
   "cell_type": "code",
   "execution_count": 14,
   "metadata": {},
   "outputs": [
    {
     "data": {
      "text/plain": [
       "('EMBL', 'CP001184', 'ACI60310.1', '-', 'Genomic_DNA')"
      ]
     },
     "execution_count": 14,
     "metadata": {},
     "output_type": "execute_result"
    }
   ],
   "source": [
    "from Bio import ExPASy\n",
    "from Bio import SwissProt\n",
    "\n",
    "handle = ExPASy.get_sprot_raw('B5ZC00') ## find a target protein by its ID\n",
    "record = SwissProt.read(handle)\n",
    "\n",
    "dir(record) ## check the list of attributes\n",
    "record.cross_references[0]"
   ]
  },
  {
   "cell_type": "code",
   "execution_count": null,
   "metadata": {},
   "outputs": [],
   "source": []
  }
 ],
 "metadata": {
  "kernelspec": {
   "display_name": "Python 3",
   "language": "python",
   "name": "python3"
  },
  "language_info": {
   "codemirror_mode": {
    "name": "ipython",
    "version": 3
   },
   "file_extension": ".py",
   "mimetype": "text/x-python",
   "name": "python",
   "nbconvert_exporter": "python",
   "pygments_lexer": "ipython3",
   "version": "3.5.5"
  }
 },
 "nbformat": 4,
 "nbformat_minor": 2
}
