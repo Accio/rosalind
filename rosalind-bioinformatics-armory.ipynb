{
 "cells": [
  {
   "cell_type": "markdown",
   "metadata": {},
   "source": [
    "# Introduction to the bioinformatics armory\n",
    "\n",
    "## Question ini\n",
    "\n",
    "Count nucleotide acids in a DNA sequence with *Bio.Seq* from Biopython"
   ]
  },
  {
   "cell_type": "code",
   "execution_count": 6,
   "metadata": {
    "scrolled": true
   },
   "outputs": [
    {
     "name": "stdout",
     "output_type": "stream",
     "text": [
      "20 12 17 21\n"
     ]
    }
   ],
   "source": [
    "from Bio.Seq import Seq\n",
    "\n",
    "def countNt(str):\n",
    "    mySeq = Seq(str)\n",
    "    res = [mySeq.count('A'), mySeq.count('C'), mySeq.count('G'), mySeq.count('T')]\n",
    "    return(res)\n",
    "\n",
    "def printCountNt(s):\n",
    "    res = countNt(s)\n",
    "    print(' '.join(list(map(str, res))))\n",
    "    \n",
    "myStr = \"AGCTTTTCATTCTGACTGCAACGGGCAATATGTCTCTGTGTGGATTAAAAAAAGAGTGTCTGATAGCAGC\"\n",
    "\n",
    "countNt(myStr)\n",
    "printCountNt(myStr)"
   ]
  },
  {
   "cell_type": "code",
   "execution_count": 7,
   "metadata": {},
   "outputs": [
    {
     "name": "stdout",
     "output_type": "stream",
     "text": [
      "225 231 220 239\n"
     ]
    }
   ],
   "source": [
    "with open('rosalind_ini.txt', 'r') as f:\n",
    "    line = f.readline()\n",
    "    \n",
    "printCountNt(line)"
   ]
  },
  {
   "cell_type": "code",
   "execution_count": null,
   "metadata": {},
   "outputs": [],
   "source": []
  }
 ],
 "metadata": {
  "kernelspec": {
   "display_name": "Python 3",
   "language": "python",
   "name": "python3"
  }
 },
 "nbformat": 4,
 "nbformat_minor": 2
}
