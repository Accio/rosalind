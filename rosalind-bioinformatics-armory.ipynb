{
 "cells": [
  {
   "cell_type": "markdown",
   "metadata": {},
   "source": [
    "# Introduction to the bioinformatics armory\n",
    "\n",
    "\n"
   ]
  },
  {
   "cell_type": "markdown",
   "metadata": {},
   "source": [
    "## Technical setup"
   ]
  },
  {
   "cell_type": "code",
   "execution_count": 9,
   "metadata": {},
   "outputs": [],
   "source": [
    "## When I sit behind a firewall, the ExPASy module reports the error SSL: Certificate_VERIFY_FAILED\n",
    "## the code part below removes the error of SSL: Certificate_VERIFY_FAILED\n",
    "## source: http://blog.pengyifan.com/how-to-fix-python-ssl-certificate_verify_failed/\n",
    "import os, ssl\n",
    "if (not os.environ.get('PYTHONHTTPSVERIFY', '') and\n",
    "    getattr(ssl, '_create_unverified_context', None)): \n",
    "    ssl._create_default_https_context = ssl._create_unverified_context"
   ]
  },
  {
   "cell_type": "markdown",
   "metadata": {},
   "source": [
    "## Question ini\n",
    "\n",
    "Count nucleotide acids in a DNA sequence with *Bio.Seq* from Biopython"
   ]
  },
  {
   "cell_type": "code",
   "execution_count": 2,
   "metadata": {
    "scrolled": true
   },
   "outputs": [
    {
     "name": "stdout",
     "output_type": "stream",
     "text": [
      "20 12 17 21\n"
     ]
    }
   ],
   "source": [
    "from Bio.Seq import Seq\n",
    "\n",
    "def countNt(str):\n",
    "    mySeq = Seq(str)\n",
    "    res = [mySeq.count('A'), mySeq.count('C'), mySeq.count('G'), mySeq.count('T')]\n",
    "    return(res)\n",
    "\n",
    "def printCountNt(s):\n",
    "    res = countNt(s)\n",
    "    print(' '.join(list(map(str, res))))\n",
    "    \n",
    "myStr = \"AGCTTTTCATTCTGACTGCAACGGGCAATATGTCTCTGTGTGGATTAAAAAAAGAGTGTCTGATAGCAGC\"\n",
    "\n",
    "countNt(myStr)\n",
    "printCountNt(myStr)"
   ]
  },
  {
   "cell_type": "code",
   "execution_count": 3,
   "metadata": {},
   "outputs": [
    {
     "name": "stdout",
     "output_type": "stream",
     "text": [
      "225 231 220 239\n"
     ]
    }
   ],
   "source": [
    "with open('rosalind_ini.txt', 'r') as f:\n",
    "    line = f.readline()\n",
    "    \n",
    "printCountNt(line)"
   ]
  },
  {
   "cell_type": "markdown",
   "metadata": {},
   "source": [
    "## Question dbpr: protein database"
   ]
  },
  {
   "cell_type": "code",
   "execution_count": 4,
   "metadata": {},
   "outputs": [
    {
     "data": {
      "text/plain": [
       "('EMBL', 'CP001184', 'ACI60310.1', '-', 'Genomic_DNA')"
      ]
     },
     "execution_count": 4,
     "metadata": {},
     "output_type": "execute_result"
    }
   ],
   "source": [
    "from Bio import ExPASy\n",
    "from Bio import SwissProt\n",
    "\n",
    "handle = ExPASy.get_sprot_raw('B5ZC00') ## find a target protein by its ID\n",
    "record = SwissProt.read(handle)\n",
    "\n",
    "dir(record) ## check the list of attributes\n",
    "record.cross_references[0]"
   ]
  },
  {
   "cell_type": "code",
   "execution_count": 27,
   "metadata": {},
   "outputs": [
    {
     "name": "stdout",
     "output_type": "stream",
     "text": [
      "DNA recombination\n",
      "DNA repair\n",
      "DNA replication\n"
     ]
    }
   ],
   "source": [
    "def getBP(proteinId):\n",
    "    handle = ExPASy.get_sprot_raw(proteinId)\n",
    "    res = SwissProt.read(handle)\n",
    "    gos = []\n",
    "    for cr in res.cross_references:\n",
    "        if cr[0]=='GO' and cr[2].startswith('P:'):\n",
    "            gos.append(cr[2][2:])\n",
    "    return(gos)\n",
    "\n",
    "q5slp9Res = getBP('Q5SLP9')\n",
    "print('\\n'.join(q5slp9Res))"
   ]
  },
  {
   "cell_type": "code",
   "execution_count": 42,
   "metadata": {},
   "outputs": [
    {
     "name": "stdout",
     "output_type": "stream",
     "text": [
      "regulation of blood pressure\n",
      "vasodilation\n"
     ]
    }
   ],
   "source": [
    "## rstrip('\\n') was used to remove the newline character at the end\n",
    "## or use splitlines()\n",
    "with open('rosalind_dbpr.txt', 'r') as f:\n",
    "    ##proid = f.readline().splitlines()[0]\n",
    "    proid = f.readline().rstrip('\\n')\n",
    "\n",
    "\n",
    "print('\\n'.join(getBP(proid)))"
   ]
  },
  {
   "cell_type": "markdown",
   "metadata": {},
   "source": [
    "## Problem gbk\n",
    "\n",
    "Access number of nucleotide GenBank entries for the given genus that were published between the dates specificied\n"
   ]
  },
  {
   "cell_type": "code",
   "execution_count": 58,
   "metadata": {},
   "outputs": [
    {
     "data": {
      "text/plain": [
       "'7'"
      ]
     },
     "execution_count": 58,
     "metadata": {},
     "output_type": "execute_result"
    }
   ],
   "source": [
    "from Bio import Entrez\n",
    "\n",
    "def gbkEntries(organism, minDate, maxDate):\n",
    "    Entrez.email = 'jitao_david.zhang@roche.com'\n",
    "    handle = Entrez.esearch(db=\"nucleotide\", \n",
    "                            term='\"{organism}\"[Organism] AND ([\"{mindate}\"[PDAT] : \"{maxdate}\"[PDAT]])'.format(\n",
    "                              organism=organism, mindate=minDate, maxdate=maxDate)\n",
    "                            )\n",
    "    record = Entrez.read(handle)\n",
    "    return(record[\"Count\"])\n",
    "\n",
    "gbkEntries(\"Anthoxanthum\", \"2003/07/25\", \"2005/12/27\")"
   ]
  },
  {
   "cell_type": "code",
   "execution_count": 63,
   "metadata": {},
   "outputs": [
    {
     "name": "stdout",
     "output_type": "stream",
     "text": [
      "Prorocentrum 2002/08/10 2003/12/09\n",
      "103\n"
     ]
    }
   ],
   "source": [
    "with open('rosalind_gbk.txt', 'r') as f:\n",
    "    species = f.readline().rstrip('\\n')\n",
    "    startdate = f.readline().rstrip('\\n')\n",
    "    enddate = f.readline().rstrip('\\n')\n",
    "    \n",
    "print(species, startdate, enddate)\n",
    "print(gbkEntries(species, startdate, enddate))"
   ]
  },
  {
   "cell_type": "markdown",
   "metadata": {},
   "source": [
    "## Problem frmt: data formats"
   ]
  },
  {
   "cell_type": "code",
   "execution_count": 19,
   "metadata": {},
   "outputs": [
    {
     "name": "stdout",
     "output_type": "stream",
     "text": [
      "FJ817486.1\n",
      "['__add__', '__bool__', '__class__', '__contains__', '__delattr__', '__dict__', '__dir__', '__doc__', '__eq__', '__format__', '__ge__', '__getattribute__', '__getitem__', '__gt__', '__hash__', '__init__', '__iter__', '__le__', '__le___', '__len__', '__lt__', '__module__', '__ne__', '__new__', '__nonzero__', '__radd__', '__reduce__', '__reduce_ex__', '__repr__', '__setattr__', '__sizeof__', '__str__', '__subclasshook__', '__weakref__', '_per_letter_annotations', '_seq', '_set_per_letter_annotations', '_set_seq', 'annotations', 'dbxrefs', 'description', 'features', 'format', 'id', 'letter_annotations', 'lower', 'name', 'reverse_complement', 'seq', 'upper']\n",
      "771\n"
     ]
    }
   ],
   "source": [
    "## programming access to GenBank\n",
    "from Bio import Entrez\n",
    "from Bio import SeqIO\n",
    "Entrez.email = \"jitao_david.zhang@roche.com\"\n",
    "handle = Entrez.efetch(db=\"nucleotide\", id=[\"FJ817486, JX069768, JX469983\"], rettype=\"fasta\")\n",
    "records = list(SeqIO.parse(handle, \"fasta\"))\n",
    "print(records[0].id)\n",
    "print(dir(records[0]))\n",
    "print(len(records[-1].seq)) ## -1 refers to the last record"
   ]
  },
  {
   "cell_type": "code",
   "execution_count": 1,
   "metadata": {},
   "outputs": [
    {
     "name": "stdout",
     "output_type": "stream",
     "text": [
      ">JX469983.1 Zea mays subsp. mays clone UT3343 G2-like transcription factor mRNA, partial cds\n",
      "ATGATGTATCATGCGAAGAATTTTTCTGTGCCCTTTGCTCCGCAGAGGGCACAGGATAATGAGCATGCAAGTAATATTGGAGGTATTGGTGGACCCAACATAAGCAACCCTGCTAATCCTGTAGGAAGTGGGAAACAACGGCTACGGTGGACATCGGATCTTCATAATCGCTTTGTGGATGCCATCGCCCAGCTTGGTGGACCAGACAGAGCTACACCTAAAGGGGTTCTCACTGTGATGGGTGTACCAGGGATCACAATTTATCATGTGAAGAGCCATCTGCAGAAGTATCGCCTTGCAAAGTATATACCCGACTCTCCTGCTGAAGGTTCCAAGGACGAAAAGAAAGATTCGAGTGATTCCCTCTCGAACACGGATTCGGCACCAGGATTGCAAATCAATGAGGCACTAAAGATGCAAATGGAGGTTCAGAAGCGACTACATGAGCAACTCGAGGTTCAAAGACAACTGCAACTAAGAATTGAAGCACAAGGAAGATACTTGCAGATGATCATTGAGGAGCAACAAAAGCTTGGTGGATCAATTAAGGCTTCTGAGGATCAGAAGCTTTCTGATTCACCTCCAAGCTTAGATGACTACCCAGAGAGCATGCAACCTTCTCCCAAGAAACCAAGGATAGACGCATTATCACCAGATTCAGAGCGCGATACAACACAACCTGAATTCGAATCCCATTTGATCGGTCCGTGGGATCACGGCATTGCATTCCCAGTGGAGGAGTTCAAAGCAGGCCCTGCTATGAGCAAGTCA\n"
     ]
    }
   ],
   "source": [
    "def shortestStrings(ids):\n",
    "    from Bio import Entrez\n",
    "    from Bio import SeqIO\n",
    "    import numpy as np\n",
    "    Entrez.email = \"jitao_david.zhang@roche.com\"\n",
    "    handle = Entrez.efetch(db=\"nucleotide\", id=[ids], rettype=\"fasta\")\n",
    "    records = list(SeqIO.parse(handle, \"fasta\"))\n",
    "    lens = [len(r.seq) for r in records]\n",
    "    isMin = np.argmin(lens)\n",
    "    print(\">{desc}\\n{seq}\".format(desc=records[isMin].description,\n",
    "                                  seq=records[isMin].seq))\n",
    "\n",
    "    \n",
    "shortestStrings('FJ817486 JX069768 JX469983')"
   ]
  },
  {
   "cell_type": "code",
   "execution_count": 2,
   "metadata": {},
   "outputs": [
    {
     "name": "stdout",
     "output_type": "stream",
     "text": [
      "NM_001168970 JX469985 JX205496 JF927165 JX308821 NM_001251956 JX469983 JX428803 JQ011276 NM_001266228\n",
      ">NM_001168970.1 Papio anubis huntingtin interacting protein K (HYPK), mRNA\n",
      "ATGCGGCGGCGTGGTGAGATAGATATGGCGACTGAGGGGGATGTGGAGCTGGAGTTAGAGACTGAGACCAGTGGACCAGAGCGGCCTCCCGAGAAGCCACGGAAGCATGACAGCGGTGCCGCGGACTTGGAGCGGGTCACCGACTATGCGGAGGAGAAGGAGATCCAGAGTTCCAATCTGGAGACGGCCATGTCTGTGATTGGAGACAGAAGGTCCCGGGAGCAGAAAGCCAAACAGGAGCGGGAGAAAGAACTGGCAAAAGTCACTATCAAGAAGGAAGATCTGGAGCTGATAATGACCGAGATGGAGATATCTCGAGCAGCAGCAGAACGCAGCTTGCGGGAACACATGGGCAACGTGGTAGAGGCGCTTATTGCCCTAACCAACTGA\n"
     ]
    }
   ],
   "source": [
    "with open('rosalind_frmt.txt', 'r') as f:\n",
    "    frmt_ids = f.readline().rstrip('\\n')\n",
    "    \n",
    "print(frmt_ids)\n",
    "shortestStrings(frmt_ids)"
   ]
  }
 ],
 "metadata": {
  "kernelspec": {
   "display_name": "Python 3",
   "language": "python",
   "name": "python3"
  },
  "language_info": {
   "codemirror_mode": {
    "name": "ipython",
    "version": 3
   },
   "file_extension": ".py",
   "mimetype": "text/x-python",
   "name": "python",
   "nbconvert_exporter": "python",
   "pygments_lexer": "ipython3",
   "version": "3.5.5"
  }
 },
 "nbformat": 4,
 "nbformat_minor": 2
}
